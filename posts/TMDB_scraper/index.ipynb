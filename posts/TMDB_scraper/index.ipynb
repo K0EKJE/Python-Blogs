{
 "cells": [
  {
   "cell_type": "markdown",
   "id": "d40677c2",
   "metadata": {},
   "source": [
    "# Web scraping with Scrapy"
   ]
  },
  {
   "cell_type": "markdown",
   "id": "ec4fc48b",
   "metadata": {},
   "source": [
    "---\n",
    "format:\n",
    "  html:\n",
    "      code-tools: true\n",
    "      page-layout: full\n",
    "      \n",
    "author: \"Haoran Jia\"\n",
    "date: \"2023-10-25\"\n",
    "---"
   ]
  },
  {
   "cell_type": "markdown",
   "id": "d8e9f3d0",
   "metadata": {},
   "source": [
    "Scraping has become an essential skill for data enthusiasts, researchers, and developers. Today, we'll explore how to extract movie and actor data from The Movie Database (TMDb) using `Scrapy`, a popular Python web scraping framework. Our goal would be to scrape data about movies that share actors with a certain movie of our choice. Specifically, we'll start with the page of a particular movie, navigate to its cast page, and then visit each actor's page to get the list of movies they starred."
   ]
  },
  {
   "cell_type": "markdown",
   "id": "d72e410b",
   "metadata": {},
   "source": [
    "![](https://i.etsystatic.com/12154873/r/il/a4cbbc/2493823260/il_570xN.2493823260_pioo.jpg){fig-align=\"center\"}\n"
   ]
  },
  {
   "cell_type": "markdown",
   "id": "800ff278",
   "metadata": {},
   "source": [
    "## Part I: Let's start scraping!"
   ]
  },
  {
   "cell_type": "markdown",
   "id": "1276f6b9",
   "metadata": {},
   "source": [
    "**A note before start:**\n",
    "\n",
    "- For now, add `CLOSESPIDER_PAGECOUNT = 20` to the file `settings.py`. This line just prevents your scraper from downloading too much data while you’re still testing things out. You’ll remove this line later.\n",
    "- You may run into `403 Forbidden` errors once the website detects that you’re a bot. One of the easiest solution is to add the following line to the same file:  \n",
    "`USER_AGENT = 'Mozilla/5.0 (iPad; CPU OS 12_2 like Mac OS X) AppleWebKit/605.1.15 (KHTML, like Gecko) Mobile/15E148'`"
   ]
  },
  {
   "cell_type": "markdown",
   "id": "d1244bf9",
   "metadata": {},
   "source": [
    "### Step0 : Start a Scrapy project\n",
    "\n",
    "After `pip install` the package, start a new project with the following command:  \n",
    ">`conda activate PIC16B-2`  \n",
    ">`scrapy startproject TMDB_scraper`  \n",
    ">`cd TMDB_scraper`  \n",
    "This will create a folder with necessary files."
   ]
  },
  {
   "cell_type": "markdown",
   "id": "f5f39894",
   "metadata": {},
   "source": [
    "### Step1: Define a spider class\n",
    "\n",
    "Pick your favorite movie or TV show, and locate its TMDB page by searching on https://www.themoviedb.org/. Here I chose *Léon: The Professional* as an example. The we will start by creating a spider class which defines how to follow links and extract data. In the code, the `name` attribute is a unique identifier for the spider, and `start_urls` contains the initial URL(s) the spider will begin scraping from. "
   ]
  },
  {
   "cell_type": "code",
   "execution_count": null,
   "id": "58886a50",
   "metadata": {},
   "outputs": [],
   "source": [
    "class TmdbSpider(scrapy.Spider):\n",
    "    \"\"\"\n",
    "    A Scrapy Spider class to scrape movie and actor data from The Movie Database (TMDb).\n",
    "\n",
    "    Attributes:\n",
    "        name (str): The name of the spider.\n",
    "        start_urls (list): A list containing the initial URL to start scraping.\n",
    "    \"\"\"\n",
    "\n",
    "    # Create a spider class, and assign a name to the spider\n",
    "    name = 'tmdb_spider'\n",
    "    start_urls = ['https://www.themoviedb.org/movie/101-leon-the-professional']"
   ]
  },
  {
   "cell_type": "markdown",
   "id": "24d992c0",
   "metadata": {},
   "source": [
    "### Step2: Locate the Starting TMDB Page\n",
    "\n",
    "We will first define a `parse(self, response)` method to start on the movie page, and then navigate to the Full Cast & Crew page, which has url of the form `<movie_url>cast`."
   ]
  },
  {
   "cell_type": "code",
   "execution_count": null,
   "id": "79a65c81",
   "metadata": {},
   "outputs": [],
   "source": [
    "def parse(self, response):\n",
    "    \"\"\"\n",
    "    Parses the main movie page and navigates to the cast page.\n",
    "\n",
    "    Args:\n",
    "        response (obj): The response object containing the scraped data.\n",
    "\n",
    "    Yields:\n",
    "        scrapy.Request: A new request to the cast URL.\n",
    "    \"\"\"\n",
    "    full_credits_url = f'{response.url}/cast' # hardcode the url format\n",
    "    yield scrapy.Request(full_credits_url, callback=self.parse_full_credits) # Yield a request to the cast URL\n"
   ]
  },
  {
   "cell_type": "markdown",
   "id": "59cfe6e7",
   "metadata": {},
   "source": [
    "### Step3: Locate the actor's page\n",
    "\n",
    "Here we will define a method called `parse_full_credits(self, response)` to extract actor links from the cast page and navigate to each actor's page when we are at the cast page after step2."
   ]
  },
  {
   "cell_type": "code",
   "execution_count": null,
   "id": "24265920",
   "metadata": {},
   "outputs": [],
   "source": [
    "def parse_full_credits(self, response):\n",
    "    \"\"\"\n",
    "    Parses the cast page, extracting actor links and navigating to each actor's page.\n",
    "\n",
    "    Args:\n",
    "        response (obj): The response object containing the scraped data.\n",
    "\n",
    "    Yields:\n",
    "        scrapy.Request: A new request to each actor's URL.\n",
    "    \"\"\"\n",
    "    # Extract all links to actor's page\n",
    "    actor_links = response.css('ol.people.credits:not(.crew) div a::attr(href)').extract()\n",
    "    # Iterate through the links and yield request to each\n",
    "    pref = \"https://www.themoviedb.org\"\n",
    "    for actor_link in actor_links:\n",
    "        yield scrapy.Request(pref+actor_link, callback=self.parse_actor_page)"
   ]
  },
  {
   "cell_type": "markdown",
   "id": "c7c476f2",
   "metadata": {},
   "source": [
    "### Step4: Scrape actor's name and a list of movies\n",
    "\n",
    "Finally we will define a `parse_actor_page(self, response)` method to interact with the page of an actor. It will yield a dictionary with two key-value pairs, of the form `{\"actor\" : actor_name, \"movie_or_TV_name\" : movie_or_TV_name}`. The method will yield one such dictionary for each of the movies or TV shows on which that actor has worked. "
   ]
  },
  {
   "cell_type": "code",
   "execution_count": null,
   "id": "e74538d4",
   "metadata": {},
   "outputs": [],
   "source": [
    "def parse_actor_page(self, response):\n",
    "    \"\"\"\n",
    "    Parses an actor's page, extracting the actor's name and the movies or TV shows they have participated in.\n",
    "\n",
    "    Args:\n",
    "        response (obj): The response object containing the scraped data.\n",
    "\n",
    "    Yields:\n",
    "        dict: A dictionary containing the actor's name and the name of a movie or TV show they have participated in.\n",
    "    \"\"\"\n",
    "    # Extract actor's name\n",
    "    actor_name = response.css('head title::text').extract_first().split(\" —\")[0]\n",
    "    # Extract a list of movies starred by this actor, and yield the dictionary\n",
    "    movies = response.css('td.role.true.account_adult_false.item_adult_false bdi::text').extract()\n",
    "    for movie in movies:\n",
    "        yield {\"actor\": actor_name, \"movie_or_TV_name\": movie}\n"
   ]
  },
  {
   "cell_type": "markdown",
   "id": "6014605a",
   "metadata": {},
   "source": [
    "### Step5: Run the spider\n",
    "\n",
    "A csv file will be created to store scraped data using command `scrapy crawl tmdb_spider -o <csv_name>.csv`"
   ]
  },
  {
   "cell_type": "markdown",
   "id": "47d838e6",
   "metadata": {},
   "source": [
    "## Part II: Visualize the reult"
   ]
  },
  {
   "cell_type": "code",
   "execution_count": 1,
   "id": "3970525e",
   "metadata": {},
   "outputs": [],
   "source": [
    "# For successful rendering of the polt\n",
    "import plotly.io as pio\n",
    "pio.renderers.default=\"iframe\""
   ]
  },
  {
   "cell_type": "code",
   "execution_count": 3,
   "id": "ec23a644",
   "metadata": {},
   "outputs": [],
   "source": [
    "import pandas as pd\n",
    "import plotly.express as px\n",
    "\n",
    "# Read in scraped data\n",
    "df = pd.read_csv('movies.csv')"
   ]
  },
  {
   "cell_type": "code",
   "execution_count": 4,
   "id": "8a2219bc",
   "metadata": {},
   "outputs": [
    {
     "data": {
      "text/html": [
       "<div>\n",
       "<style scoped>\n",
       "    .dataframe tbody tr th:only-of-type {\n",
       "        vertical-align: middle;\n",
       "    }\n",
       "\n",
       "    .dataframe tbody tr th {\n",
       "        vertical-align: top;\n",
       "    }\n",
       "\n",
       "    .dataframe thead th {\n",
       "        text-align: right;\n",
       "    }\n",
       "</style>\n",
       "<table border=\"1\" class=\"dataframe\">\n",
       "  <thead>\n",
       "    <tr style=\"text-align: right;\">\n",
       "      <th></th>\n",
       "      <th>actor</th>\n",
       "      <th>movie_or_TV_name</th>\n",
       "    </tr>\n",
       "  </thead>\n",
       "  <tbody>\n",
       "    <tr>\n",
       "      <th>0</th>\n",
       "      <td>Peter Linari</td>\n",
       "      <td>Hustle</td>\n",
       "    </tr>\n",
       "    <tr>\n",
       "      <th>1</th>\n",
       "      <td>Peter Linari</td>\n",
       "      <td>Good Time</td>\n",
       "    </tr>\n",
       "    <tr>\n",
       "      <th>2</th>\n",
       "      <td>Peter Linari</td>\n",
       "      <td>Straighten Up and Fly Right</td>\n",
       "    </tr>\n",
       "    <tr>\n",
       "      <th>3</th>\n",
       "      <td>Peter Linari</td>\n",
       "      <td>Season of the Hunted</td>\n",
       "    </tr>\n",
       "    <tr>\n",
       "      <th>4</th>\n",
       "      <td>Peter Linari</td>\n",
       "      <td>The Curse of the Jade Scorpion</td>\n",
       "    </tr>\n",
       "  </tbody>\n",
       "</table>\n",
       "</div>"
      ],
      "text/plain": [
       "          actor                movie_or_TV_name\n",
       "0  Peter Linari                          Hustle\n",
       "1  Peter Linari                       Good Time\n",
       "2  Peter Linari     Straighten Up and Fly Right\n",
       "3  Peter Linari            Season of the Hunted\n",
       "4  Peter Linari  The Curse of the Jade Scorpion"
      ]
     },
     "execution_count": 4,
     "metadata": {},
     "output_type": "execute_result"
    }
   ],
   "source": [
    "# Take a look at the data \n",
    "df.head()"
   ]
  },
  {
   "cell_type": "code",
   "execution_count": 5,
   "id": "01acde02",
   "metadata": {},
   "outputs": [],
   "source": [
    "# Get the top10 movies starred by same actors in our favorite movie \n",
    "top10 = df.groupby('movie_or_TV_name')['actor'].count().sort_values(ascending = False)[1:11]\n",
    "top10 = pd.DataFrame(top10).reset_index() # Convert to dataframe"
   ]
  },
  {
   "cell_type": "code",
   "execution_count": 6,
   "id": "e177b118",
   "metadata": {
    "scrolled": false
   },
   "outputs": [
    {
     "data": {
      "text/html": [
       "<iframe\n",
       "    scrolling=\"no\"\n",
       "    width=\"100%\"\n",
       "    height=\"545px\"\n",
       "    src=\"iframe_figures/figure_6.html\"\n",
       "    frameborder=\"0\"\n",
       "    allowfullscreen\n",
       "></iframe>\n"
      ]
     },
     "metadata": {},
     "output_type": "display_data"
    }
   ],
   "source": [
    "# Plot a bar chart, and add title\n",
    "fig = px.bar(top10, x='movie_or_TV_name', y='actor')\n",
    "fig.update_layout(title_text=\"Top 10 movies or TV shows with most shared actors\")\n",
    "\n",
    "fig.show()"
   ]
  },
  {
   "cell_type": "markdown",
   "id": "2ea277a8",
   "metadata": {},
   "source": [
    "From this bar plot we can see *Law & Order* has the most shared actors with *Léon: The Professional*."
   ]
  }
 ],
 "metadata": {
  "kernelspec": {
   "display_name": "Python 3 (ipykernel)",
   "language": "python",
   "name": "python3"
  },
  "language_info": {
   "codemirror_mode": {
    "name": "ipython",
    "version": 3
   },
   "file_extension": ".py",
   "mimetype": "text/x-python",
   "name": "python",
   "nbconvert_exporter": "python",
   "pygments_lexer": "ipython3",
   "version": "3.9.18"
  }
 },
 "nbformat": 4,
 "nbformat_minor": 5
}
