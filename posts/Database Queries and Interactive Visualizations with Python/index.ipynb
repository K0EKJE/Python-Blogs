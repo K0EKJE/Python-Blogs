{
 "cells": [
  {
   "cell_type": "markdown",
   "metadata": {
    "id": "4yQ6hh9y6hlq"
   },
   "source": [
    "# Database Queries and Interactive Visualizations with Python"
   ]
  },
  {
   "cell_type": "markdown",
   "metadata": {
    "id": "XrQChrCV6MxX"
   },
   "source": [
    "---\n",
    "format:\n",
    "  html:\n",
    "      code-tools: true\n",
    "      page-layout: full\n",
    "      \n",
    "author: \"Haoran Jia\"\n",
    "date: \"2023-10-22\"\n",
    "---"
   ]
  },
  {
   "cell_type": "markdown",
   "metadata": {},
   "source": [
    "![Source: https://plotly.com/about-us/](https://images.prismic.io/plotly-marketing-website-2/24f8da7c-f17b-4418-9d07-85d9287d8194_timeline_assets-02.png?auto=compress,format)"
   ]
  },
  {
   "cell_type": "markdown",
   "metadata": {
    "id": "uUJvl_dxMi8T"
   },
   "source": [
    "In this tutorial, we'll work with `sqlite3`, `plotly`, and `pandas` on a climate dataset. By the end, you should be comfortable with creating a SQLite database using Python, querying with SQL, and crafting customized graphs with Plotly."
   ]
  },
  {
   "cell_type": "markdown",
   "metadata": {
    "id": "ggyafy3gKCEk"
   },
   "source": [
    "**Note:** For the successful rendering of the interactive plots, run the following."
   ]
  },
  {
   "cell_type": "code",
   "execution_count": 1,
   "metadata": {
    "colab": {
     "base_uri": "https://localhost:8080/"
    },
    "executionInfo": {
     "elapsed": 18510,
     "status": "ok",
     "timestamp": 1698018126406,
     "user": {
      "displayName": "HAORAN JIA",
      "userId": "00526075531643448393"
     },
     "user_tz": 420
    },
    "id": "Z1XCsEVk6Nu0",
    "outputId": "c553caed-88fc-4873-df7c-21df8a3fb4c0"
   },
   "outputs": [],
   "source": [
    "import plotly.io as pio\n",
    "pio.renderers.default=\"iframe\""
   ]
  },
  {
   "cell_type": "markdown",
   "metadata": {
    "id": "sSxqodWX7-Jr"
   },
   "source": [
    "### Data Import"
   ]
  },
  {
   "cell_type": "markdown",
   "metadata": {
    "id": "R_kS0nZGTYj1"
   },
   "source": [
    "First, we need to read in three required tables with `pandas`, and then we will be creating a database based on these tables."
   ]
  },
  {
   "cell_type": "code",
   "execution_count": 2,
   "metadata": {
    "executionInfo": {
     "elapsed": 11509,
     "status": "ok",
     "timestamp": 1698018137913,
     "user": {
      "displayName": "HAORAN JIA",
      "userId": "00526075531643448393"
     },
     "user_tz": 420
    },
    "id": "rWMZWZ1o67-o"
   },
   "outputs": [],
   "source": [
    "import pandas as pd\n",
    "\n",
    "# Read from files\n",
    "stations = pd.read_csv(\"station-metadata.csv\")\n",
    "temps = pd.read_csv('temps_stacked.csv')\n",
    "countries = pd.read_csv('countries.csv')"
   ]
  },
  {
   "cell_type": "markdown",
   "metadata": {
    "id": "F78VwaE58TdO"
   },
   "source": [
    "Let's take a look at each dataset."
   ]
  },
  {
   "cell_type": "code",
   "execution_count": 3,
   "metadata": {
    "colab": {
     "base_uri": "https://localhost:8080/",
     "height": 0
    },
    "executionInfo": {
     "elapsed": 11,
     "status": "ok",
     "timestamp": 1698018137914,
     "user": {
      "displayName": "HAORAN JIA",
      "userId": "00526075531643448393"
     },
     "user_tz": 420
    },
    "id": "krGxIVT78SD5",
    "outputId": "5483f783-5a4d-4b62-ab22-5f368530f1ed"
   },
   "outputs": [
    {
     "data": {
      "text/html": [
       "<div>\n",
       "<style scoped>\n",
       "    .dataframe tbody tr th:only-of-type {\n",
       "        vertical-align: middle;\n",
       "    }\n",
       "\n",
       "    .dataframe tbody tr th {\n",
       "        vertical-align: top;\n",
       "    }\n",
       "\n",
       "    .dataframe thead th {\n",
       "        text-align: right;\n",
       "    }\n",
       "</style>\n",
       "<table border=\"1\" class=\"dataframe\">\n",
       "  <thead>\n",
       "    <tr style=\"text-align: right;\">\n",
       "      <th></th>\n",
       "      <th>ID</th>\n",
       "      <th>LATITUDE</th>\n",
       "      <th>LONGITUDE</th>\n",
       "      <th>STNELEV</th>\n",
       "      <th>NAME</th>\n",
       "    </tr>\n",
       "  </thead>\n",
       "  <tbody>\n",
       "    <tr>\n",
       "      <th>0</th>\n",
       "      <td>ACW00011604</td>\n",
       "      <td>57.7667</td>\n",
       "      <td>11.8667</td>\n",
       "      <td>18.0</td>\n",
       "      <td>SAVE</td>\n",
       "    </tr>\n",
       "    <tr>\n",
       "      <th>1</th>\n",
       "      <td>AE000041196</td>\n",
       "      <td>25.3330</td>\n",
       "      <td>55.5170</td>\n",
       "      <td>34.0</td>\n",
       "      <td>SHARJAH_INTER_AIRP</td>\n",
       "    </tr>\n",
       "    <tr>\n",
       "      <th>2</th>\n",
       "      <td>AEM00041184</td>\n",
       "      <td>25.6170</td>\n",
       "      <td>55.9330</td>\n",
       "      <td>31.0</td>\n",
       "      <td>RAS_AL_KHAIMAH_INTE</td>\n",
       "    </tr>\n",
       "    <tr>\n",
       "      <th>3</th>\n",
       "      <td>AEM00041194</td>\n",
       "      <td>25.2550</td>\n",
       "      <td>55.3640</td>\n",
       "      <td>10.4</td>\n",
       "      <td>DUBAI_INTL</td>\n",
       "    </tr>\n",
       "    <tr>\n",
       "      <th>4</th>\n",
       "      <td>AEM00041216</td>\n",
       "      <td>24.4300</td>\n",
       "      <td>54.4700</td>\n",
       "      <td>3.0</td>\n",
       "      <td>ABU_DHABI_BATEEN_AIR</td>\n",
       "    </tr>\n",
       "  </tbody>\n",
       "</table>\n",
       "</div>"
      ],
      "text/plain": [
       "            ID  LATITUDE  LONGITUDE  STNELEV                  NAME\n",
       "0  ACW00011604   57.7667    11.8667     18.0                  SAVE\n",
       "1  AE000041196   25.3330    55.5170     34.0    SHARJAH_INTER_AIRP\n",
       "2  AEM00041184   25.6170    55.9330     31.0   RAS_AL_KHAIMAH_INTE\n",
       "3  AEM00041194   25.2550    55.3640     10.4            DUBAI_INTL\n",
       "4  AEM00041216   24.4300    54.4700      3.0  ABU_DHABI_BATEEN_AIR"
      ]
     },
     "execution_count": 3,
     "metadata": {},
     "output_type": "execute_result"
    }
   ],
   "source": [
    "stations.head()"
   ]
  },
  {
   "cell_type": "code",
   "execution_count": 4,
   "metadata": {
    "colab": {
     "base_uri": "https://localhost:8080/",
     "height": 0
    },
    "executionInfo": {
     "elapsed": 9,
     "status": "ok",
     "timestamp": 1698018137914,
     "user": {
      "displayName": "HAORAN JIA",
      "userId": "00526075531643448393"
     },
     "user_tz": 420
    },
    "id": "QVloapUi8Qt_",
    "outputId": "fb2e7a9a-930c-4354-90ee-de7f07a370cc"
   },
   "outputs": [
    {
     "data": {
      "text/html": [
       "<div>\n",
       "<style scoped>\n",
       "    .dataframe tbody tr th:only-of-type {\n",
       "        vertical-align: middle;\n",
       "    }\n",
       "\n",
       "    .dataframe tbody tr th {\n",
       "        vertical-align: top;\n",
       "    }\n",
       "\n",
       "    .dataframe thead th {\n",
       "        text-align: right;\n",
       "    }\n",
       "</style>\n",
       "<table border=\"1\" class=\"dataframe\">\n",
       "  <thead>\n",
       "    <tr style=\"text-align: right;\">\n",
       "      <th></th>\n",
       "      <th>ID</th>\n",
       "      <th>Year</th>\n",
       "      <th>Month</th>\n",
       "      <th>Temp</th>\n",
       "    </tr>\n",
       "  </thead>\n",
       "  <tbody>\n",
       "    <tr>\n",
       "      <th>0</th>\n",
       "      <td>ACW00011604</td>\n",
       "      <td>1961</td>\n",
       "      <td>1</td>\n",
       "      <td>-0.89</td>\n",
       "    </tr>\n",
       "    <tr>\n",
       "      <th>1</th>\n",
       "      <td>ACW00011604</td>\n",
       "      <td>1961</td>\n",
       "      <td>2</td>\n",
       "      <td>2.36</td>\n",
       "    </tr>\n",
       "    <tr>\n",
       "      <th>2</th>\n",
       "      <td>ACW00011604</td>\n",
       "      <td>1961</td>\n",
       "      <td>3</td>\n",
       "      <td>4.72</td>\n",
       "    </tr>\n",
       "    <tr>\n",
       "      <th>3</th>\n",
       "      <td>ACW00011604</td>\n",
       "      <td>1961</td>\n",
       "      <td>4</td>\n",
       "      <td>7.73</td>\n",
       "    </tr>\n",
       "    <tr>\n",
       "      <th>4</th>\n",
       "      <td>ACW00011604</td>\n",
       "      <td>1961</td>\n",
       "      <td>5</td>\n",
       "      <td>11.28</td>\n",
       "    </tr>\n",
       "  </tbody>\n",
       "</table>\n",
       "</div>"
      ],
      "text/plain": [
       "            ID  Year  Month   Temp\n",
       "0  ACW00011604  1961      1  -0.89\n",
       "1  ACW00011604  1961      2   2.36\n",
       "2  ACW00011604  1961      3   4.72\n",
       "3  ACW00011604  1961      4   7.73\n",
       "4  ACW00011604  1961      5  11.28"
      ]
     },
     "execution_count": 4,
     "metadata": {},
     "output_type": "execute_result"
    }
   ],
   "source": [
    "temps.head()"
   ]
  },
  {
   "cell_type": "code",
   "execution_count": 5,
   "metadata": {
    "colab": {
     "base_uri": "https://localhost:8080/",
     "height": 0
    },
    "executionInfo": {
     "elapsed": 8,
     "status": "ok",
     "timestamp": 1698018137914,
     "user": {
      "displayName": "HAORAN JIA",
      "userId": "00526075531643448393"
     },
     "user_tz": 420
    },
    "id": "itP5fEmz8WhV",
    "outputId": "6add6ff2-c74d-4ebb-b89e-34853ec6bc55"
   },
   "outputs": [
    {
     "data": {
      "text/html": [
       "<div>\n",
       "<style scoped>\n",
       "    .dataframe tbody tr th:only-of-type {\n",
       "        vertical-align: middle;\n",
       "    }\n",
       "\n",
       "    .dataframe tbody tr th {\n",
       "        vertical-align: top;\n",
       "    }\n",
       "\n",
       "    .dataframe thead th {\n",
       "        text-align: right;\n",
       "    }\n",
       "</style>\n",
       "<table border=\"1\" class=\"dataframe\">\n",
       "  <thead>\n",
       "    <tr style=\"text-align: right;\">\n",
       "      <th></th>\n",
       "      <th>FIPS 10-4</th>\n",
       "      <th>ISO 3166</th>\n",
       "      <th>Name</th>\n",
       "    </tr>\n",
       "  </thead>\n",
       "  <tbody>\n",
       "    <tr>\n",
       "      <th>0</th>\n",
       "      <td>AF</td>\n",
       "      <td>AF</td>\n",
       "      <td>Afghanistan</td>\n",
       "    </tr>\n",
       "    <tr>\n",
       "      <th>1</th>\n",
       "      <td>AX</td>\n",
       "      <td>-</td>\n",
       "      <td>Akrotiri</td>\n",
       "    </tr>\n",
       "    <tr>\n",
       "      <th>2</th>\n",
       "      <td>AL</td>\n",
       "      <td>AL</td>\n",
       "      <td>Albania</td>\n",
       "    </tr>\n",
       "    <tr>\n",
       "      <th>3</th>\n",
       "      <td>AG</td>\n",
       "      <td>DZ</td>\n",
       "      <td>Algeria</td>\n",
       "    </tr>\n",
       "    <tr>\n",
       "      <th>4</th>\n",
       "      <td>AQ</td>\n",
       "      <td>AS</td>\n",
       "      <td>American Samoa</td>\n",
       "    </tr>\n",
       "  </tbody>\n",
       "</table>\n",
       "</div>"
      ],
      "text/plain": [
       "  FIPS 10-4 ISO 3166            Name\n",
       "0        AF       AF     Afghanistan\n",
       "1        AX        -        Akrotiri\n",
       "2        AL       AL         Albania\n",
       "3        AG       DZ         Algeria\n",
       "4        AQ       AS  American Samoa"
      ]
     },
     "execution_count": 5,
     "metadata": {},
     "output_type": "execute_result"
    }
   ],
   "source": [
    "countries.head()"
   ]
  },
  {
   "cell_type": "markdown",
   "metadata": {
    "id": "A1C4vCmVA9kM"
   },
   "source": [
    "Notice that there is no country names in `stations`. We may want to add an extra column named country to it for future convenience. We can do this by merging `stations` and `countries` using the two-letter ID. As a good practice, all operations with dataframe will be enclosed in a function."
   ]
  },
  {
   "cell_type": "code",
   "execution_count": 6,
   "metadata": {
    "executionInfo": {
     "elapsed": 215,
     "status": "ok",
     "timestamp": 1698018138122,
     "user": {
      "displayName": "HAORAN JIA",
      "userId": "00526075531643448393"
     },
     "user_tz": 420
    },
    "id": "TSuLZJWYAxH1"
   },
   "outputs": [],
   "source": [
    "def prepare_df(stations):\n",
    "    \"\"\"\n",
    "    Prepare the stations DataFrame by merging it with the countries DataFrame and renaming columns.\n",
    "\n",
    "    This function extracts the 'FIPS 10-4' code from the 'ID' column of the stations DataFrame,\n",
    "    merges the stations DataFrame with the countries DataFrame based on the 'FIPS 10-4' code,\n",
    "    drops unnecessary columns, and renames the 'Name' column to 'Country'.\n",
    "\n",
    "    Parameters:\n",
    "    - stations (pd.DataFrame): The stations dataset.\n",
    "\n",
    "    Returns:\n",
    "    - pd.DataFrame: A modified version of the stations DataFrame after merging and renaming operations.\n",
    "    \"\"\"\n",
    "\n",
    "    # Extract the 'FIPS 10-4' code from the 'ID' column\n",
    "    stations['FIPS 10-4'] = stations['ID'].str[:2]\n",
    "\n",
    "    # Merge the stations DataFrame with the countries DataFrame based on the 'FIPS 10-4' code\n",
    "    stations = pd.merge(stations, countries, on='FIPS 10-4')\n",
    "\n",
    "    # Drop unnecessary columns\n",
    "    stations = stations.drop(['FIPS 10-4', 'ISO 3166'], axis=1)\n",
    "\n",
    "    # Rename the 'Name' column to 'Country'\n",
    "    stations.rename(columns={'Name': 'Country'}, inplace=True)\n",
    "\n",
    "    return stations\n",
    "\n",
    "stations = prepare_df(stations)"
   ]
  },
  {
   "cell_type": "markdown",
   "metadata": {
    "id": "z2uSzVYL73k3"
   },
   "source": [
    "### Creating Databases"
   ]
  },
  {
   "cell_type": "markdown",
   "metadata": {
    "id": "w2h8co1y-9Nx"
   },
   "source": [
    "In this section, we are going to create a database with three tables we have: `temperatures`, `stations`, and `countries`."
   ]
  },
  {
   "cell_type": "code",
   "execution_count": 7,
   "metadata": {
    "executionInfo": {
     "elapsed": 2,
     "status": "ok",
     "timestamp": 1698018138122,
     "user": {
      "displayName": "HAORAN JIA",
      "userId": "00526075531643448393"
     },
     "user_tz": 420
    },
    "id": "cfCN1maG7SA8"
   },
   "outputs": [],
   "source": [
    "import sqlite3\n",
    "\n",
    "# Create database\n",
    "conn = sqlite3.connect(\"temps.db\")"
   ]
  },
  {
   "cell_type": "markdown",
   "metadata": {
    "id": "UKMnCtsHVIGU"
   },
   "source": [
    "We observe that `temps` is extremely large, so we may want to add it to the database by chunks. We can write a function to do this."
   ]
  },
  {
   "cell_type": "code",
   "execution_count": 8,
   "metadata": {
    "executionInfo": {
     "elapsed": 39971,
     "status": "ok",
     "timestamp": 1698018178091,
     "user": {
      "displayName": "HAORAN JIA",
      "userId": "00526075531643448393"
     },
     "user_tz": 420
    },
    "id": "8KKij1VD73BA"
   },
   "outputs": [],
   "source": [
    "def read_csv_to_database(csv_file_path, database_connection):\n",
    "    # Read segmented table into database\n",
    "    df_iter = pd.read_csv(csv_file_path, chunksize=100000)\n",
    "    for df in df_iter:\n",
    "        df.to_sql(\"temperatures\", database_connection, if_exists=\"append\", index=False)\n",
    "\n",
    "csv_file_path = 'temps_stacked.csv'\n",
    "read_csv_to_database(csv_file_path, conn)"
   ]
  },
  {
   "cell_type": "markdown",
   "metadata": {
    "id": "4GnAVPpM8lNt"
   },
   "source": [
    "Add other two datasets to the database."
   ]
  },
  {
   "cell_type": "code",
   "execution_count": 9,
   "metadata": {
    "colab": {
     "base_uri": "https://localhost:8080/"
    },
    "executionInfo": {
     "elapsed": 509,
     "status": "ok",
     "timestamp": 1698018178572,
     "user": {
      "displayName": "HAORAN JIA",
      "userId": "00526075531643448393"
     },
     "user_tz": 420
    },
    "id": "2ZquUGGc8K4V",
    "outputId": "0e7e0997-4d42-4fad-bc80-0fec53e62ad8"
   },
   "outputs": [
    {
     "data": {
      "text/plain": [
       "279"
      ]
     },
     "execution_count": 9,
     "metadata": {},
     "output_type": "execute_result"
    }
   ],
   "source": [
    "# Read other two tables into database\n",
    "stations.to_sql(\"stations\", conn, if_exists = \"replace\", index = False)\n",
    "countries.to_sql(\"countries\", conn, if_exists = \"replace\", index = False)"
   ]
  },
  {
   "cell_type": "markdown",
   "metadata": {
    "id": "VekYpSa_82RO"
   },
   "source": [
    "Always remember to close the dataset connection when you are not using."
   ]
  },
  {
   "cell_type": "code",
   "execution_count": 10,
   "metadata": {
    "executionInfo": {
     "elapsed": 7,
     "status": "ok",
     "timestamp": 1698018178572,
     "user": {
      "displayName": "HAORAN JIA",
      "userId": "00526075531643448393"
     },
     "user_tz": 420
    },
    "id": "GjH2SkGS8qzm"
   },
   "outputs": [],
   "source": [
    "conn.close()"
   ]
  },
  {
   "cell_type": "markdown",
   "metadata": {
    "id": "78LlqncS9ytg"
   },
   "source": [
    "### A simple Query Function"
   ]
  },
  {
   "cell_type": "markdown",
   "metadata": {
    "id": "3DMN5gL_-ZGj"
   },
   "source": [
    "Connect to the database before using, and then create a cursor to interact with it."
   ]
  },
  {
   "cell_type": "code",
   "execution_count": 11,
   "metadata": {
    "executionInfo": {
     "elapsed": 5,
     "status": "ok",
     "timestamp": 1698018178572,
     "user": {
      "displayName": "HAORAN JIA",
      "userId": "00526075531643448393"
     },
     "user_tz": 420
    },
    "id": "FlL2m_12-WZ6"
   },
   "outputs": [],
   "source": [
    "# connect to database\n",
    "conn = sqlite3.connect(\"temps.db\")"
   ]
  },
  {
   "cell_type": "markdown",
   "metadata": {
    "id": "tV9wqI85-pmV"
   },
   "source": [
    "Let's first check all three tables are in the database."
   ]
  },
  {
   "cell_type": "code",
   "execution_count": 12,
   "metadata": {
    "colab": {
     "base_uri": "https://localhost:8080/"
    },
    "executionInfo": {
     "elapsed": 5,
     "status": "ok",
     "timestamp": 1698018178572,
     "user": {
      "displayName": "HAORAN JIA",
      "userId": "00526075531643448393"
     },
     "user_tz": 420
    },
    "id": "AoLR52qU810g",
    "outputId": "66d71d60-2d40-4338-846c-dc6424caaab0"
   },
   "outputs": [
    {
     "name": "stdout",
     "output_type": "stream",
     "text": [
      "[('temperatures',), ('stations',), ('countries',)]\n"
     ]
    }
   ],
   "source": [
    "# Create a cursor object to interact with the SQLite database\n",
    "cursor = conn.cursor()\n",
    "\n",
    "# Execute an SQL query to fetch the names of all tables in the database\n",
    "cursor.execute(\"SELECT name FROM sqlite_master WHERE type='table'\")\n",
    "\n",
    "# Print the names of the tables\n",
    "print(cursor.fetchall())\n",
    "\n",
    "# Close the database connection\n",
    "conn.close()"
   ]
  },
  {
   "cell_type": "markdown",
   "metadata": {
    "id": "xs8O5OvtrYFF"
   },
   "source": [
    "With the data, we can start to ask our first question: ***how does the average yearly change in temperature vary within a given country?***\n"
   ]
  },
  {
   "cell_type": "markdown",
   "metadata": {
    "id": "ZpyxM1abkn3m"
   },
   "source": [
    "\n",
    "We may create a map scatter plot where color of dots will represent temperature. But before doing that, we may want to retrieve necessary data frist.\n",
    "\n",
    ">We are going to do this with a query function called `query_climate_database` which accepts four arguments:\n",
    "\n",
    "- `country`, a string giving the name of a country for which data should be returned.\n",
    "- `year_begin` and `year_end`, two integers giving the earliest and latest years for which should be returned.\n",
    "- `month`, an integer giving the month of the year for which should be returned.\n",
    "\n",
    "The return value is a Pandas dataframe of temperature readings for the specified country, in the specified date range, in the specified month of the year."
   ]
  },
  {
   "cell_type": "code",
   "execution_count": 13,
   "metadata": {
    "executionInfo": {
     "elapsed": 234,
     "status": "ok",
     "timestamp": 1698018178802,
     "user": {
      "displayName": "HAORAN JIA",
      "userId": "00526075531643448393"
     },
     "user_tz": 420
    },
    "id": "TY4Q3wJG-S_7"
   },
   "outputs": [],
   "source": [
    "def query_climate_database(country, year_begin, year_end, month):\n",
    "    \"\"\"\n",
    "    Fetch climate data for a specified country, year range, and month from an SQLite database.\n",
    "\n",
    "    This function queries temperature data based on a specified country, year range, and month\n",
    "    from an SQLite database and returns the data as a pandas DataFrame.\n",
    "\n",
    "    Parameters:\n",
    "    - country (str): The name of the country for which data is to be fetched.\n",
    "    - year_begin (int): The starting year for the data range.\n",
    "    - year_end (int): The ending year for the data range.\n",
    "    - month (int): The month for which data is to be fetched.\n",
    "\n",
    "    Returns:\n",
    "    - pd.DataFrame: A DataFrame containing temperature data for the specified country, year range, and month.\n",
    "\n",
    "    Example:\n",
    "    >>> df = query_climate_database('India', 2000, 2020, 1)\n",
    "    Fetches temperature data for India for the month of January between the years 2000 and 2020.\n",
    "    \"\"\"\n",
    "\n",
    "    # Connect to the SQLite database\n",
    "    conn = sqlite3.connect(\"temps.db\")\n",
    "    cursor = conn.cursor()\n",
    "\n",
    "    # Execute the SQL query to fetch temperature data\n",
    "    cursor.execute(f\"SELECT s.NAME, s.LATITUDE, s.LONGITUDE, s.Country, t.Year, t.Month, t.Temp \\\n",
    "                     FROM temperatures t JOIN stations s ON s.ID = t.ID \\\n",
    "                     WHERE s.Country = '{country}' AND Year >= {year_begin} AND Year <= {year_end} AND t.Month = {month}\")\n",
    "\n",
    "    # Convert the fetched data to a pandas DataFrame\n",
    "    result_df = pd.DataFrame(cursor.fetchall(), columns=['Name', 'Latitude', 'Longitude',\n",
    "                                                         'Country', 'Year', 'Month', 'Temp'])\n",
    "\n",
    "    # Close the database connection\n",
    "    conn.close()\n",
    "\n",
    "    return result_df\n"
   ]
  },
  {
   "cell_type": "markdown",
   "metadata": {
    "id": "m9rXhkHrJOU8"
   },
   "source": [
    "Let's see an example usage."
   ]
  },
  {
   "cell_type": "code",
   "execution_count": 14,
   "metadata": {
    "colab": {
     "base_uri": "https://localhost:8080/",
     "height": 0
    },
    "executionInfo": {
     "elapsed": 3394,
     "status": "ok",
     "timestamp": 1698018182193,
     "user": {
      "displayName": "HAORAN JIA",
      "userId": "00526075531643448393"
     },
     "user_tz": 420
    },
    "id": "GKF8fT8ABTIT",
    "outputId": "985a7e75-2aa4-412c-ed6b-d9a177750a73"
   },
   "outputs": [
    {
     "data": {
      "text/html": [
       "<div>\n",
       "<style scoped>\n",
       "    .dataframe tbody tr th:only-of-type {\n",
       "        vertical-align: middle;\n",
       "    }\n",
       "\n",
       "    .dataframe tbody tr th {\n",
       "        vertical-align: top;\n",
       "    }\n",
       "\n",
       "    .dataframe thead th {\n",
       "        text-align: right;\n",
       "    }\n",
       "</style>\n",
       "<table border=\"1\" class=\"dataframe\">\n",
       "  <thead>\n",
       "    <tr style=\"text-align: right;\">\n",
       "      <th></th>\n",
       "      <th>Name</th>\n",
       "      <th>Latitude</th>\n",
       "      <th>Longitude</th>\n",
       "      <th>Country</th>\n",
       "      <th>Year</th>\n",
       "      <th>Month</th>\n",
       "      <th>Temp</th>\n",
       "    </tr>\n",
       "  </thead>\n",
       "  <tbody>\n",
       "    <tr>\n",
       "      <th>0</th>\n",
       "      <td>PBO_ANANTAPUR</td>\n",
       "      <td>14.583</td>\n",
       "      <td>77.633</td>\n",
       "      <td>India</td>\n",
       "      <td>1980</td>\n",
       "      <td>1</td>\n",
       "      <td>23.48</td>\n",
       "    </tr>\n",
       "    <tr>\n",
       "      <th>1</th>\n",
       "      <td>PBO_ANANTAPUR</td>\n",
       "      <td>14.583</td>\n",
       "      <td>77.633</td>\n",
       "      <td>India</td>\n",
       "      <td>1980</td>\n",
       "      <td>1</td>\n",
       "      <td>23.48</td>\n",
       "    </tr>\n",
       "    <tr>\n",
       "      <th>2</th>\n",
       "      <td>PBO_ANANTAPUR</td>\n",
       "      <td>14.583</td>\n",
       "      <td>77.633</td>\n",
       "      <td>India</td>\n",
       "      <td>1980</td>\n",
       "      <td>1</td>\n",
       "      <td>23.48</td>\n",
       "    </tr>\n",
       "    <tr>\n",
       "      <th>3</th>\n",
       "      <td>PBO_ANANTAPUR</td>\n",
       "      <td>14.583</td>\n",
       "      <td>77.633</td>\n",
       "      <td>India</td>\n",
       "      <td>1980</td>\n",
       "      <td>1</td>\n",
       "      <td>23.48</td>\n",
       "    </tr>\n",
       "    <tr>\n",
       "      <th>4</th>\n",
       "      <td>PBO_ANANTAPUR</td>\n",
       "      <td>14.583</td>\n",
       "      <td>77.633</td>\n",
       "      <td>India</td>\n",
       "      <td>1981</td>\n",
       "      <td>1</td>\n",
       "      <td>24.57</td>\n",
       "    </tr>\n",
       "    <tr>\n",
       "      <th>...</th>\n",
       "      <td>...</td>\n",
       "      <td>...</td>\n",
       "      <td>...</td>\n",
       "      <td>...</td>\n",
       "      <td>...</td>\n",
       "      <td>...</td>\n",
       "      <td>...</td>\n",
       "    </tr>\n",
       "    <tr>\n",
       "      <th>12603</th>\n",
       "      <td>DARJEELING</td>\n",
       "      <td>27.050</td>\n",
       "      <td>88.270</td>\n",
       "      <td>India</td>\n",
       "      <td>1995</td>\n",
       "      <td>1</td>\n",
       "      <td>5.60</td>\n",
       "    </tr>\n",
       "    <tr>\n",
       "      <th>12604</th>\n",
       "      <td>DARJEELING</td>\n",
       "      <td>27.050</td>\n",
       "      <td>88.270</td>\n",
       "      <td>India</td>\n",
       "      <td>1997</td>\n",
       "      <td>1</td>\n",
       "      <td>5.70</td>\n",
       "    </tr>\n",
       "    <tr>\n",
       "      <th>12605</th>\n",
       "      <td>DARJEELING</td>\n",
       "      <td>27.050</td>\n",
       "      <td>88.270</td>\n",
       "      <td>India</td>\n",
       "      <td>1997</td>\n",
       "      <td>1</td>\n",
       "      <td>5.70</td>\n",
       "    </tr>\n",
       "    <tr>\n",
       "      <th>12606</th>\n",
       "      <td>DARJEELING</td>\n",
       "      <td>27.050</td>\n",
       "      <td>88.270</td>\n",
       "      <td>India</td>\n",
       "      <td>1997</td>\n",
       "      <td>1</td>\n",
       "      <td>5.70</td>\n",
       "    </tr>\n",
       "    <tr>\n",
       "      <th>12607</th>\n",
       "      <td>DARJEELING</td>\n",
       "      <td>27.050</td>\n",
       "      <td>88.270</td>\n",
       "      <td>India</td>\n",
       "      <td>1997</td>\n",
       "      <td>1</td>\n",
       "      <td>5.70</td>\n",
       "    </tr>\n",
       "  </tbody>\n",
       "</table>\n",
       "<p>12608 rows × 7 columns</p>\n",
       "</div>"
      ],
      "text/plain": [
       "                Name  Latitude  Longitude Country  Year  Month   Temp\n",
       "0      PBO_ANANTAPUR    14.583     77.633   India  1980      1  23.48\n",
       "1      PBO_ANANTAPUR    14.583     77.633   India  1980      1  23.48\n",
       "2      PBO_ANANTAPUR    14.583     77.633   India  1980      1  23.48\n",
       "3      PBO_ANANTAPUR    14.583     77.633   India  1980      1  23.48\n",
       "4      PBO_ANANTAPUR    14.583     77.633   India  1981      1  24.57\n",
       "...              ...       ...        ...     ...   ...    ...    ...\n",
       "12603     DARJEELING    27.050     88.270   India  1995      1   5.60\n",
       "12604     DARJEELING    27.050     88.270   India  1997      1   5.70\n",
       "12605     DARJEELING    27.050     88.270   India  1997      1   5.70\n",
       "12606     DARJEELING    27.050     88.270   India  1997      1   5.70\n",
       "12607     DARJEELING    27.050     88.270   India  1997      1   5.70\n",
       "\n",
       "[12608 rows x 7 columns]"
      ]
     },
     "execution_count": 14,
     "metadata": {},
     "output_type": "execute_result"
    }
   ],
   "source": [
    "# Example output\n",
    "query_climate_database(country = \"India\",\n",
    "                       year_begin = 1980,\n",
    "                       year_end = 2020,\n",
    "                       month = 1)"
   ]
  },
  {
   "cell_type": "markdown",
   "metadata": {
    "id": "QdgzHobeJZip"
   },
   "source": [
    "###  Visualization 1: Geographic Scatter Plot for Yearly Temperature Increases"
   ]
  },
  {
   "cell_type": "markdown",
   "metadata": {
    "id": "NZsZcRqznRRD"
   },
   "source": [
    "Before moving, let's first compute a simple estimate of the **year-over-year average change in temperature** in each month at each station to add more fun. For this, we'll use our old friend, linear regression. We'll use the statistical fact that, when regressing `Temp` against `Year`, the coefficient of `Year` will be an estimate of the yearly change in `Temp`."
   ]
  },
  {
   "cell_type": "code",
   "execution_count": 15,
   "metadata": {
    "executionInfo": {
     "elapsed": 1419,
     "status": "ok",
     "timestamp": 1698018183607,
     "user": {
      "displayName": "HAORAN JIA",
      "userId": "00526075531643448393"
     },
     "user_tz": 420
    },
    "id": "jH2DVfpUMc1i"
   },
   "outputs": [],
   "source": [
    "from sklearn.linear_model import LinearRegression\n",
    "\n",
    "def coef(data_group):\n",
    "    \"\"\"\n",
    "    Calculate the coefficient of the linear regression model for temperature against year.\n",
    "\n",
    "    This function fits a linear regression model using the \"Year\" as the independent variable\n",
    "    and \"Temp\" as the dependent variable. It returns the coefficient of the \"Year\",\n",
    "    which represents the rate of change of temperature with respect to the year.\n",
    "\n",
    "    Parameters:\n",
    "    - data_group: A pandas grouped object.\n",
    "\n",
    "    Returns:\n",
    "    - float: The coefficient of the \"Year\" in the linear regression model.\n",
    "    \"\"\"\n",
    "\n",
    "    # Extract x and y variables from data group\n",
    "    x = data_group[[\"Year\"]]\n",
    "    y = data_group[\"Temp\"]\n",
    "\n",
    "    # Initialize and fit the linear regression model\n",
    "    LR = LinearRegression()\n",
    "    LR.fit(x, y)\n",
    "\n",
    "    # Return the coefficient of the \"Year\"\n",
    "    return LR.coef_[0]\n"
   ]
  },
  {
   "cell_type": "markdown",
   "metadata": {
    "id": "MtI03vsEl4sA"
   },
   "source": [
    "Now we are going to write a function called `temperature_coefficient_plot` to visualize the data we fetched from the database. This function will accept five explicit arguments, and an undetermined number of keyword arguments.\n",
    "\n",
    " > `country`, `year_begin`, `year_end`, and `month` are as in the previous part.\n",
    "  `min_obs`, the minimum required number of years of data for any given station. Only data for stations with at least `min_obs` years worth of data in the specified month would be plotted; the others would be filtered out. We will use `df.transform()` plus filtering to achieve this task. `**kwargs` is an additional keyword arguments passed to `px.scatter_mapbox()`. These can be used to control the colormap used, the mapbox style, etc.\n",
    "\n",
    "The output of this function would be an interactive geographic scatterplot, constructed using Plotly Express, with a point for each station, such that the color of the point reflects an estimate of the yearly change in temperature during the specified month and time period at that station.\n",
    "\n"
   ]
  },
  {
   "cell_type": "code",
   "execution_count": 16,
   "metadata": {
    "executionInfo": {
     "elapsed": 693,
     "status": "ok",
     "timestamp": 1698018184297,
     "user": {
      "displayName": "HAORAN JIA",
      "userId": "00526075531643448393"
     },
     "user_tz": 420
    },
    "id": "iSWtFqy6JG5G"
   },
   "outputs": [],
   "source": [
    "from plotly import express as px\n",
    "\n",
    "# Define a color map for the plot\n",
    "color_map = px.colors.diverging.RdGy_r\n",
    "# Create a mapping for creating titles\n",
    "month_mapping = {\n",
    "    1: \"January\",\n",
    "    2: \"February\",\n",
    "    3: \"March\",\n",
    "    4: \"April\",\n",
    "    5: \"May\",\n",
    "    6: \"June\",\n",
    "    7: \"July\",\n",
    "    8: \"August\",\n",
    "    9: \"September\",\n",
    "    10: \"October\",\n",
    "    11: \"November\",\n",
    "    12: \"December\"\n",
    "}\n",
    "\n",
    "def temperature_coefficient_plot(country, year_begin, year_end, month, min_obs, **kwargs):\n",
    "    \"\"\"\n",
    "    Generate a scatter map plot showing the estimated yearly increase in temperature for various stations.\n",
    "\n",
    "    This function queries temperature data for a specified country, month, and year range.\n",
    "    It then calculates the coefficient of the linear regression model for temperature against year\n",
    "    for each station and plots the stations on a map. The color of each station represents the\n",
    "    estimated yearly increase in temperature.\n",
    "\n",
    "    Parameters:\n",
    "    - country (str): The name of the country for which the plot is to be generated.\n",
    "    - year_begin (int): The starting year for the data range.\n",
    "    - year_end (int): The ending year for the data range.\n",
    "    - month (int): The month for which the plot is to be generated.\n",
    "    - min_obs (int): Minimum number of observations required for a station to be included in the plot.\n",
    "    - **kwargs: Additional keyword arguments for the plotly express scatter_mapbox function.\n",
    "\n",
    "    Returns:\n",
    "    - plotly.graph_objs._figure.Figure: A Plotly figure object representing the scatter map plot.\n",
    "\n",
    "    Example:\n",
    "    >>> fig = temperature_coefficient_plot(\"India\", 1980, 2020, 1, min_obs=10, zoom=3, center={'lat':23,'lon':80})\n",
    "    Generates a scatter map plot for India for the month of January between the years 1980 and 2020.\n",
    "    \"\"\"\n",
    "\n",
    "    # Query the climate database for the specified parameters\n",
    "    temp_df = query_climate_database(country, year_begin, year_end, month)\n",
    "\n",
    "    # Filter stations based on the minimum number of observations\n",
    "    temp_df['min_obs'] = temp_df.groupby('Name')['Year'].transform('nunique')\n",
    "    temp_df = temp_df[temp_df['min_obs'] >= min_obs]\n",
    "\n",
    "    # Calculate the coefficient for each station and merge it into the main dataframe\n",
    "    coefs = temp_df.groupby([\"Name\"]).apply(coef)\n",
    "    coefs = coefs.reset_index()\n",
    "    temp_df = pd.merge(temp_df, coefs, on='Name')\n",
    "    temp_df.rename(columns={0: 'Estimate'}, inplace=True)\n",
    "    temp_df['Estimate'] = temp_df['Estimate'].round(4)  # Round the estimates for better visualization\n",
    "    max_abs_estimate = temp_df['Estimate'].abs().max()  # Determine the maximum absolute estimate for color scaling\n",
    "\n",
    "    # Create the scatter map plot using plotly express\n",
    "    fig = px.scatter_mapbox(temp_df,\n",
    "                            hover_name=\"Name\",\n",
    "                            lat=\"Latitude\",\n",
    "                            lon=\"Longitude\",\n",
    "                            color='Estimate',\n",
    "                            range_color=[-max_abs_estimate, max_abs_estimate],\n",
    "                            **kwargs)\n",
    "\n",
    "    # Update the layout and title of the plot\n",
    "    fig.update_layout(title_text=f\"\"\"Estimate of yearly increase in temperature in {month_mapping[month]} for stations in {country}, between {year_begin} to {year_end}\"\"\")\n",
    "\n",
    "    return fig\n"
   ]
  },
  {
   "cell_type": "markdown",
   "metadata": {
    "id": "f4csWLdXnro0"
   },
   "source": [
    "Let's try generating a scatter map plot of temperature for India in January between the years 1980 and 2020."
   ]
  },
  {
   "cell_type": "code",
   "execution_count": 17,
   "metadata": {
    "colab": {
     "base_uri": "https://localhost:8080/",
     "height": 542
    },
    "executionInfo": {
     "elapsed": 3547,
     "status": "ok",
     "timestamp": 1698018187842,
     "user": {
      "displayName": "HAORAN JIA",
      "userId": "00526075531643448393"
     },
     "user_tz": 420
    },
    "id": "ySxi-tVlMn8V",
    "outputId": "279085d1-08f9-4d16-c21c-77d70c97f6d6"
   },
   "outputs": [
    {
     "data": {
      "text/html": [
       "<iframe\n",
       "    scrolling=\"no\"\n",
       "    width=\"100%\"\n",
       "    height=\"545px\"\n",
       "    src=\"iframe_figures/figure_17.html\"\n",
       "    frameborder=\"0\"\n",
       "    allowfullscreen\n",
       "></iframe>\n"
      ]
     },
     "metadata": {},
     "output_type": "display_data"
    }
   ],
   "source": [
    "# Example usage: Generate and display the plot for India\n",
    "fig = temperature_coefficient_plot(\"India\", 1980, 2020, 1, min_obs=10,\n",
    "                                  zoom=3,\n",
    "                                  center={'lat':23,'lon':80},\n",
    "                                  mapbox_style=\"carto-positron\",\n",
    "                                  color_continuous_scale=color_map)\n",
    "fig.show()\n"
   ]
  },
  {
   "cell_type": "markdown",
   "metadata": {
    "id": "ZZ0LTVgt0hGm"
   },
   "source": [
    "From this graph we can see that the estimate in temperature increase mostly appears near the border lines of India, while inland temperature is expected to drop.  "
   ]
  },
  {
   "cell_type": "markdown",
   "metadata": {
    "id": "VKwYuOos_vlc"
   },
   "source": [
    "To generalize the fucntion, let's test with an another example."
   ]
  },
  {
   "cell_type": "code",
   "execution_count": 18,
   "metadata": {
    "colab": {
     "base_uri": "https://localhost:8080/",
     "height": 542
    },
    "executionInfo": {
     "elapsed": 2513,
     "status": "ok",
     "timestamp": 1698018190345,
     "user": {
      "displayName": "HAORAN JIA",
      "userId": "00526075531643448393"
     },
     "user_tz": 420
    },
    "id": "eP2xZSmL_uqE",
    "outputId": "ae2a2c52-68b2-4018-d6fc-e08fa04a8a68"
   },
   "outputs": [
    {
     "data": {
      "text/html": [
       "<iframe\n",
       "    scrolling=\"no\"\n",
       "    width=\"100%\"\n",
       "    height=\"545px\"\n",
       "    src=\"iframe_figures/figure_18.html\"\n",
       "    frameborder=\"0\"\n",
       "    allowfullscreen\n",
       "></iframe>\n"
      ]
     },
     "metadata": {},
     "output_type": "display_data"
    }
   ],
   "source": [
    "fig = temperature_coefficient_plot(\"China\", 1960, 1980, 10, min_obs = 10,\n",
    "                                  zoom = 2.5,\n",
    "                                  center = {'lat':40,'lon':110},\n",
    "                                  mapbox_style=\"carto-positron\",\n",
    "                                  color_continuous_scale=color_map)\n",
    "fig.show()"
   ]
  },
  {
   "cell_type": "markdown",
   "metadata": {
    "id": "ivw-FK6q0ObF"
   },
   "source": [
    "The graphs shows that the stations mostly centered at the South Eastern side of China, while the largest estimate in temperature increase appears in far North and West."
   ]
  },
  {
   "cell_type": "markdown",
   "metadata": {
    "id": "pA6vwS7K-qOs"
   },
   "source": [
    "### Visualization 2: Line Plot for Yearly and Monthly Average Temperature Change"
   ]
  },
  {
   "cell_type": "markdown",
   "metadata": {
    "id": "TJtuvKvmrPMs"
   },
   "source": [
    "In this section, we want to ask: ***how does the average temperature in certain country changes over time?***"
   ]
  },
  {
   "cell_type": "markdown",
   "metadata": {
    "id": "qroGb-5CqCdz"
   },
   "source": [
    "\n",
    "\n",
    "To answer this question, we may create a line plot where x axis is date and y axis is the average temperature.\n",
    "\n",
    "> Again, we are going to start with a query function called `query_avg_temp_by_country` which accepts three arguments:\n",
    "`country`, `year_begin`, and `year_end` as in the previous part.\n",
    "\n",
    "The return value is a Pandas dataframe of temperature readings for the specified country, in the specified date range, in the specified month of the year."
   ]
  },
  {
   "cell_type": "code",
   "execution_count": 19,
   "metadata": {
    "executionInfo": {
     "elapsed": 9,
     "status": "ok",
     "timestamp": 1698018190345,
     "user": {
      "displayName": "HAORAN JIA",
      "userId": "00526075531643448393"
     },
     "user_tz": 420
    },
    "id": "cXk13VcsElz2"
   },
   "outputs": [],
   "source": [
    "def query_avg_temp_by_country(country, year_begin=1901, year_end=2020):\n",
    "    \"\"\"\n",
    "    Fetch average temperature data for a specified country from an SQLite database.\n",
    "\n",
    "    This function queries temperature data based on a specified country and a year range\n",
    "    from an SQLite database and returns the data as a pandas DataFrame.\n",
    "\n",
    "    Parameters:\n",
    "    - country (str): The name of the country for which data is to be fetched.\n",
    "    - year_begin (int, optional): The starting year for the data range. Default is 1901.\n",
    "    - year_end (int, optional): The ending year for the data range. Default is 2020.\n",
    "\n",
    "    Returns:\n",
    "    - pd.DataFrame: A DataFrame containing temperature data for the specified country and year range.\n",
    "\n",
    "    Example:\n",
    "    >>> df = query_avg_temp_by_country('India', year_begin=2000, year_end=2010)\n",
    "    Fetches temperature data for India between the years 2000 and 2010.\n",
    "    \"\"\"\n",
    "\n",
    "    # Connect to the SQLite database\n",
    "    conn = sqlite3.connect(\"temps.db\")\n",
    "    cursor = conn.cursor()\n",
    "\n",
    "    # Execute the SQL query to fetch temperature data\n",
    "    cursor.execute(f\"SELECT s.Country, t.Year, t.Month, t.Temp \\\n",
    "                     FROM temperatures t JOIN stations s ON s.ID = t.ID \\\n",
    "                     WHERE s.Country = '{country}' AND t.Year >= {year_begin} AND t.Year <= {year_end}\")\n",
    "\n",
    "    # Convert the fetched data to a pandas DataFrame\n",
    "    result_df = pd.DataFrame(cursor.fetchall(), columns=['Country', 'Year', 'Month', 'Temp'])\n",
    "\n",
    "    # Close the database connection\n",
    "    conn.close()\n",
    "\n",
    "    return result_df"
   ]
  },
  {
   "cell_type": "markdown",
   "metadata": {
    "id": "erktpl2MrUo4"
   },
   "source": [
    "Then similarly, we will create a user-friendly function called `temp_trend_lineplot` to help us with the plotting. The function is supposed to takes in `country`, `year_begin`, and `year_end` as in the previous part, and returns a line plot show the monthly and yearly change in average temperature.\n",
    "\n",
    "But beside the baseline, we can have some addition to the interactive plot. We will create two seperate figures for monthly and yearly average temperature, and adds bottons to control the displayed time period.\n",
    "\n",
    "In the actual inplementation, we need to process the data using `groupby()` to get the average for a specific time period and `to_datetime` function to convert the time into `datetime` object for plotting."
   ]
  },
  {
   "cell_type": "code",
   "execution_count": 20,
   "metadata": {
    "executionInfo": {
     "elapsed": 8,
     "status": "ok",
     "timestamp": 1698018190345,
     "user": {
      "displayName": "HAORAN JIA",
      "userId": "00526075531643448393"
     },
     "user_tz": 420
    },
    "id": "kiy-NjQSILAW"
   },
   "outputs": [],
   "source": [
    "import plotly.graph_objects as go\n",
    "from plotly.subplots import make_subplots\n",
    "\n",
    "def temp_trend_lineplot(country, year_begin=1901, year_end=2020):\n",
    "    \"\"\"\n",
    "    Generate a time series line plot showing the monthly and yearly average temperature for a specified country.\n",
    "\n",
    "    Parameters:\n",
    "    - country (str): The name of the country for which the plot is to be generated.\n",
    "    - year_begin (int, optional): The starting year for the data range. Default is 1901.\n",
    "    - year_end (int, optional): The ending year for the data range. Default is 2020.\n",
    "\n",
    "    Returns:\n",
    "    - A Plotly figure object representing the time series line plot.\n",
    "\n",
    "    Example:\n",
    "    >>> fig = temp_trend_lineplot('India')\n",
    "    Generates a line plot for India showing monthly and yearly average temperatures.\n",
    "    \"\"\"\n",
    "\n",
    "    # Fetch average temperature data for the specified country and year range\n",
    "    result_df = query_avg_temp_by_country(country, year_begin, year_end)\n",
    "\n",
    "    # Calculate monthly average temperatures\n",
    "    avgs_df = result_df.groupby(['Year', 'Month'])['Temp'].mean().reset_index()\n",
    "    avgs_df['Date'] = pd.to_datetime(avgs_df['Year'].astype(str) + '-' + avgs_df['Month'].astype(str) + '-01')\n",
    "\n",
    "    # Calculate yearly average temperatures\n",
    "    yearly_avg = avgs_df.resample('Y', on='Date').mean()\n",
    "\n",
    "    # Create subplots for both monthly and yearly averages\n",
    "    fig = make_subplots(rows=2, cols=1,\n",
    "                        shared_xaxes=True, vertical_spacing=0.1,\n",
    "                        subplot_titles=('Monthly Average', 'Yearly Average'))\n",
    "\n",
    "    # Add trace for monthly average temperatures\n",
    "    fig.add_trace(\n",
    "        go.Scatter(x=avgs_df.Date, y=avgs_df.Temp, name='Monthly Average'),\n",
    "        row=1, col=1)\n",
    "\n",
    "    # Add trace for yearly average temperatures\n",
    "    fig.add_trace(\n",
    "        go.Scatter(x=yearly_avg.index, y=yearly_avg.Temp, name='Yearly Average'),\n",
    "        row=2, col=1)\n",
    "\n",
    "    # Set the title and layout properties for the plot\n",
    "    fig.update_layout(\n",
    "        title_text=f\"Time series average temperature in {country}\",\n",
    "        height=800\n",
    "    )\n",
    "\n",
    "    # Add a range slider for date selection\n",
    "    fig.update_layout(\n",
    "        xaxis=dict(\n",
    "            rangeselector=dict(\n",
    "                buttons=list([\n",
    "                    dict(count=6,\n",
    "                         label=\"6m\",\n",
    "                         step=\"month\",\n",
    "                         stepmode=\"backward\"),\n",
    "                    dict(count=1,\n",
    "                         label=\"1y\",\n",
    "                         step=\"year\",\n",
    "                         stepmode=\"backward\"),\n",
    "                    dict(count=5,\n",
    "                         label=\"5y\",\n",
    "                         step=\"year\",\n",
    "                         stepmode=\"backward\"),\n",
    "                    dict(step=\"all\")\n",
    "                ])\n",
    "            ),\n",
    "            rangeslider=dict(\n",
    "                visible=False\n",
    "            ),\n",
    "            type=\"date\"\n",
    "        )\n",
    "    )\n",
    "    return fig"
   ]
  },
  {
   "cell_type": "code",
   "execution_count": 21,
   "metadata": {
    "colab": {
     "base_uri": "https://localhost:8080/",
     "height": 817
    },
    "executionInfo": {
     "elapsed": 26567,
     "status": "ok",
     "timestamp": 1698018216904,
     "user": {
      "displayName": "HAORAN JIA",
      "userId": "00526075531643448393"
     },
     "user_tz": 420
    },
    "id": "lW57ty0pHPo2",
    "outputId": "767f5765-2434-4622-9156-19f00259d0a3"
   },
   "outputs": [
    {
     "data": {
      "text/html": [
       "<iframe\n",
       "    scrolling=\"no\"\n",
       "    width=\"100%\"\n",
       "    height=\"820\"\n",
       "    src=\"iframe_figures/figure_21.html\"\n",
       "    frameborder=\"0\"\n",
       "    allowfullscreen\n",
       "></iframe>\n"
      ]
     },
     "metadata": {},
     "output_type": "display_data"
    }
   ],
   "source": [
    "# Example usage: Generate and display the plot for India\n",
    "fig = temp_trend_lineplot('India')\n",
    "fig.show()"
   ]
  },
  {
   "cell_type": "markdown",
   "metadata": {
    "id": "0Z6-7CT9zRlY"
   },
   "source": [
    "It seems that the seasonal temperature change are pretty regular in the long term, but in general, the yearly average temperature plot suggests that the temperature in India keeps getting warm from 1901 to recent years, though with some fluctuations."
   ]
  },
  {
   "cell_type": "markdown",
   "metadata": {
    "id": "2f63fXv4s8j6"
   },
   "source": [
    "See an another example."
   ]
  },
  {
   "cell_type": "code",
   "execution_count": 22,
   "metadata": {
    "colab": {
     "base_uri": "https://localhost:8080/",
     "height": 817
    },
    "executionInfo": {
     "elapsed": 29804,
     "status": "ok",
     "timestamp": 1698018246705,
     "user": {
      "displayName": "HAORAN JIA",
      "userId": "00526075531643448393"
     },
     "user_tz": 420
    },
    "id": "GjrXlx_Mxi_A",
    "outputId": "f8bcaaf3-daf6-4111-bf2b-3a5a8ae6ad4d"
   },
   "outputs": [
    {
     "data": {
      "text/html": [
       "<iframe\n",
       "    scrolling=\"no\"\n",
       "    width=\"100%\"\n",
       "    height=\"820\"\n",
       "    src=\"iframe_figures/figure_22.html\"\n",
       "    frameborder=\"0\"\n",
       "    allowfullscreen\n",
       "></iframe>\n"
      ]
     },
     "metadata": {},
     "output_type": "display_data"
    }
   ],
   "source": [
    "fig = temp_trend_lineplot('United States', year_begin = 2000, year_end = 2020)\n",
    "fig.show()"
   ]
  },
  {
   "cell_type": "markdown",
   "metadata": {
    "id": "jRodXYmSzwdZ"
   },
   "source": [
    "The seasonal pattern is also clear in the US, but it fluctuates at a much lower level compared with India, from around 0 to 25, while India's temperature varies from around 16 to 30."
   ]
  },
  {
   "cell_type": "markdown",
   "metadata": {
    "id": "noaVkdJn0Qlu"
   },
   "source": [
    "### Visualization 3: Stacked Histogram With Box Plot for Temperature Distribution"
   ]
  },
  {
   "cell_type": "markdown",
   "metadata": {
    "id": "Iyli9oDktU9W"
   },
   "source": [
    "In this section, we want to answer the question: ***how does the distribution of temperature differ between different countries***?\n",
    "\n"
   ]
  },
  {
   "cell_type": "markdown",
   "metadata": {
    "id": "RaxNyQZItscO"
   },
   "source": [
    "As usual, the first task is to create a query function to retrieve the data. We will create a function called `query_temp_by_country` that takes four parameters, one required list-type argument `countries`, and three optional arguments: `month`,`year_begin`, `year_end`. If `month` is not specified, then it will return all temperature data within the time period. The return would be a DataFrame containing temperature data for the specified countries, month, and year range.\n"
   ]
  },
  {
   "cell_type": "code",
   "execution_count": 23,
   "metadata": {
    "executionInfo": {
     "elapsed": 6,
     "status": "ok",
     "timestamp": 1698018246707,
     "user": {
      "displayName": "HAORAN JIA",
      "userId": "00526075531643448393"
     },
     "user_tz": 420
    },
    "id": "h3jbS4aO9Dbv"
   },
   "outputs": [],
   "source": [
    "def query_temp_by_country(countries, month=0, year_begin=1901, year_end=2020):\n",
    "    \"\"\"\n",
    "    Fetch temperature data for specified countries from an SQLite database.\n",
    "\n",
    "    This function queries temperature data based on a list of countries, a specified month,\n",
    "    and a year range from the database. The data is returned as a pandas DataFrame.\n",
    "\n",
    "    Parameters:\n",
    "    - countries (list of str): A list of country names for which data is to be fetched.\n",
    "    - month (int, optional): The month for which data is to be fetched. Default is 0, which fetches data for all months.\n",
    "    - year_begin (int, optional): The starting year for the data range. Default is 1901.\n",
    "    - year_end (int, optional): The ending year for the data range. Default is 2020.\n",
    "\n",
    "    Returns:\n",
    "    - pd.DataFrame: A DataFrame containing temperature data for the specified countries, month, and year range.\n",
    "\n",
    "    Example:\n",
    "    >>> query_temp_by_country(['Zimbabwe', 'USA'], month=1, year_begin=2000, year_end=2010)\n",
    "    Returns a DataFrame with temperature data for Zimbabwe and USA for the month of January between the years 2000 and 2010.\n",
    "    \"\"\"\n",
    "\n",
    "    conn = sqlite3.connect(\"temps.db\")\n",
    "    cursor = conn.cursor()\n",
    "\n",
    "    # Create a placeholder for each country in the list\n",
    "    placeholders = ', '.join(['?'] * len(countries))\n",
    "\n",
    "    # Using parameterized query for different input length\n",
    "    query_str = f\"\"\"SELECT t.Year, t.Temp, s.Country, t.Month\n",
    "                    FROM temperatures t JOIN stations s\n",
    "                    ON s.ID = t.ID\n",
    "                    WHERE s.Country IN ({placeholders}) AND t.Year >= ? AND t.Year <= ?\"\"\"\n",
    "\n",
    "    # List of parameters for the query\n",
    "    params = countries + [year_begin, year_end]\n",
    "\n",
    "    # Add restrictions to month depending on the input\n",
    "    if month > 0:\n",
    "        query_str += ' AND t.Month = ?'\n",
    "        params.append(month)\n",
    "\n",
    "    # Query and get results\n",
    "    cursor.execute(query_str, params)\n",
    "    result_df = pd.DataFrame(cursor.fetchall(), columns=['Year', 'Temp', 'Country', 'Month'])\n",
    "    conn.close()\n",
    "\n",
    "    return result_df\n"
   ]
  },
  {
   "cell_type": "markdown",
   "metadata": {
    "id": "_jHL2iUVvEOu"
   },
   "source": [
    "With the query function, we can start working on the actual plotting function. We will create a function named `stacked_histogram` that takes in the same arguments as `query_temp_by_country`. Since the input is a bit different as previous functions, we hope to remind the user of the data type. In Python `Raises...TypeError` allows us to do this.\n",
    "\n",
    "As return, we hope to get a stacked histogram for a list of countries, with their box plots, where the y axis suggest the number of observations, and x axis specifies temperature bins.\n",
    "    "
   ]
  },
  {
   "cell_type": "code",
   "execution_count": 24,
   "metadata": {
    "executionInfo": {
     "elapsed": 7,
     "status": "ok",
     "timestamp": 1698018246709,
     "user": {
      "displayName": "HAORAN JIA",
      "userId": "00526075531643448393"
     },
     "user_tz": 420
    },
    "id": "coHYHEq31YkQ"
   },
   "outputs": [],
   "source": [
    "def stacked_histogram(countries, month=0, year_begin=1901, year_end=2020):\n",
    "    \"\"\"\n",
    "    Create a stacked histogram of temperature data for specified countries.\n",
    "\n",
    "    This function fetches temperature data based on a list of countries, a specified month,\n",
    "    and a year range using the `query_temp_by_country` function. It then creates a stacked histogram\n",
    "    using Plotly Express and returns the figure.\n",
    "\n",
    "    Parameters:\n",
    "    - countries (list of str): A list of country names for which the histogram is to be created.\n",
    "    - month (int, optional): The month for which the histogram is to be created. Default is 0, which uses data for all months.\n",
    "    - year_begin (int, optional): The starting year for the data range. Default is 1901.\n",
    "    - year_end (int, optional): The ending year for the data range. Default is 2020.\n",
    "\n",
    "    Returns:\n",
    "    - A Plotly figure object representing the stacked histogram.\n",
    "\n",
    "    Example:\n",
    "    >>> fig = stacked_histogram(['Zimbabwe', 'United States'], month=1, year_begin=2000, year_end=2010)\n",
    "    Creates and returns a stacked histogram for Zimbabwe and USA for the month of January between the years 2000 and 2010.\n",
    "    \"\"\"\n",
    "    if type(countries) != list:\n",
    "        raise TypeError('Countries must be a list.')\n",
    "\n",
    "    # retrieve data from database\n",
    "    result_df = query_temp_by_country(countries, month, year_begin, year_end)\n",
    "    # plot a stacked histogram\n",
    "    fig = px.histogram(result_df, x=\"Temp\", color=\"Country\", marginal='box')\n",
    "    # add a title\n",
    "    title_text = f\"Stacked histogram of historical termperature distribution between {year_begin} and {year_end}\"\n",
    "    if month>0:\n",
    "            title_text += f\" in {month_mapping[month]}\"\n",
    "    \n",
    "    # Set the title\n",
    "    fig.update_layout(\n",
    "        title_text=title_text\n",
    "    )\n",
    "\n",
    "    return fig\n"
   ]
  },
  {
   "cell_type": "code",
   "execution_count": 25,
   "metadata": {
    "colab": {
     "base_uri": "https://localhost:8080/",
     "height": 542
    },
    "executionInfo": {
     "elapsed": 13260,
     "status": "ok",
     "timestamp": 1698018259963,
     "user": {
      "displayName": "HAORAN JIA",
      "userId": "00526075531643448393"
     },
     "user_tz": 420
    },
    "id": "0n50iuZRFwtM",
    "outputId": "8d66ba3a-56e9-4348-8f55-ee75a5ea35bf"
   },
   "outputs": [
    {
     "data": {
      "text/html": [
       "<iframe\n",
       "    scrolling=\"no\"\n",
       "    width=\"100%\"\n",
       "    height=\"545px\"\n",
       "    src=\"iframe_figures/figure_25.html\"\n",
       "    frameborder=\"0\"\n",
       "    allowfullscreen\n",
       "></iframe>\n"
      ]
     },
     "metadata": {},
     "output_type": "display_data"
    }
   ],
   "source": [
    "# Let's try an extreme cases.\n",
    "stacked_histogram(['Zimbabwe','Netherlands'])"
   ]
  },
  {
   "cell_type": "markdown",
   "metadata": {
    "id": "upKdodTcyS00"
   },
   "source": [
    "We can tell that the two countries have different climate patterns since their interquartile range did not overlap. Also, the height of the stacked chart suggest probably these two countries have similar numbers of stations."
   ]
  },
  {
   "cell_type": "code",
   "execution_count": 26,
   "metadata": {
    "colab": {
     "base_uri": "https://localhost:8080/",
     "height": 542
    },
    "executionInfo": {
     "elapsed": 3777,
     "status": "ok",
     "timestamp": 1698018263716,
     "user": {
      "displayName": "HAORAN JIA",
      "userId": "00526075531643448393"
     },
     "user_tz": 420
    },
    "id": "uf7ehuQ15PqM",
    "outputId": "96153445-b3d5-4d68-b068-e2f8e98204c7"
   },
   "outputs": [
    {
     "data": {
      "text/html": [
       "<iframe\n",
       "    scrolling=\"no\"\n",
       "    width=\"100%\"\n",
       "    height=\"545px\"\n",
       "    src=\"iframe_figures/figure_26.html\"\n",
       "    frameborder=\"0\"\n",
       "    allowfullscreen\n",
       "></iframe>\n"
      ]
     },
     "metadata": {},
     "output_type": "display_data"
    }
   ],
   "source": [
    "# One more example\n",
    "stacked_histogram(['Argentina', 'China','Canada'], month = 10)"
   ]
  },
  {
   "cell_type": "markdown",
   "metadata": {
    "id": "hMO6YxEkyyym"
   },
   "source": [
    "From this graph, we can tell that Canada have many extreme values below 0, as the outliers. China has the longest interquartile range, suggesting a larger variation in climate patterns within the country."
   ]
  }
 ],
 "metadata": {
  "colab": {
   "authorship_tag": "ABX9TyOV0d+3lgOoVp46c0BFdXcd",
   "collapsed_sections": [
    "sSxqodWX7-Jr",
    "z2uSzVYL73k3",
    "78LlqncS9ytg",
    "QdgzHobeJZip",
    "pA6vwS7K-qOs",
    "noaVkdJn0Qlu"
   ],
   "provenance": []
  },
  "kernelspec": {
   "display_name": "Python 3 (ipykernel)",
   "language": "python",
   "name": "python3"
  },
  "language_info": {
   "codemirror_mode": {
    "name": "ipython",
    "version": 3
   },
   "file_extension": ".py",
   "mimetype": "text/x-python",
   "name": "python",
   "nbconvert_exporter": "python",
   "pygments_lexer": "ipython3",
   "version": "3.11.5"
  }
 },
 "nbformat": 4,
 "nbformat_minor": 1
}
